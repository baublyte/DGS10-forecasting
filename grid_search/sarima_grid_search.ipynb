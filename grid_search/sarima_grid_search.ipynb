{
 "cells": [
  {
   "cell_type": "code",
   "execution_count": 1,
   "metadata": {},
   "outputs": [
    {
     "name": "stdout",
     "output_type": "stream",
     "text": [
      "ARIMA(0, 0, 0)x(0, 0, 0, 0) - AIC:11618.142134137295\n",
      "ARIMA(0, 0, 0)x(0, 0, 0, 12) - AIC:11618.142134137295\n",
      "ARIMA(0, 1, 0)x(0, 0, 0, 0) - AIC:-8006.8357387368305\n",
      "ARIMA(0, 1, 0)x(0, 0, 0, 12) - AIC:-8006.8357387368305\n",
      "Best ARIMA(0, 1, 0, 0, 0, 0, 0) - AIC:-8006.8357387368305\n",
      "Best parameters (p, d, q, P, D, Q, s): (0, 1, 0, 0, 0, 0, 0)\n"
     ]
    }
   ],
   "source": [
    "import numpy as np\n",
    "import pandas as pd\n",
    "from statsmodels.tsa.statespace.sarimax import SARIMAX\n",
    "from itertools import product\n",
    "from fredapi import Fred\n",
    "import warnings\n",
    "from dotenv import load_dotenv\n",
    "import os\n",
    "\n",
    "warnings.filterwarnings('ignore')\n",
    "\n",
    "def arima_grid_search(data, p_range, d_range, q_range, P_range, D_range, Q_range, s_range):\n",
    "    best_aic = np.inf\n",
    "    best_params = None\n",
    "    \n",
    "    for p, d, q, P, D, Q, s in product(p_range, d_range, q_range, P_range, D_range, Q_range, s_range):\n",
    "        try:\n",
    "            model = SARIMAX(data, order=(p, d, q), seasonal_order=(P, D, Q, s))\n",
    "            results = model.fit(disp=False)\n",
    "            aic = results.aic\n",
    "            if aic < best_aic:\n",
    "                best_aic = aic\n",
    "                best_params = (p, d, q, P, D, Q, s)\n",
    "            print(f'ARIMA{(p,d,q)}x{(P,D,Q,s)} - AIC:{aic}')\n",
    "        except:\n",
    "            continue\n",
    "    \n",
    "    print(f'Best ARIMA{best_params} - AIC:{best_aic}')\n",
    "    return best_params\n",
    "\n",
    "if __name__ == \"__main__\":\n",
    "    # Fetch data\n",
    "    # Load API_key from .env\n",
    "    load_dotenv()\n",
    "    API_KEY = os.getenv('API_KEY')\n",
    "\n",
    "    # Initialize Fred API with your API key\n",
    "    fred = Fred(api_key=API_KEY)\n",
    "\n",
    "    data = fred.get_series('DGS10')\n",
    "    data = pd.DataFrame(data, columns=['Interest Rate'])\n",
    "    data.index.name = 'Date'\n",
    "    data = data[(data.index >= '2010-01-01') & (data.index < '2020-01-01')]\n",
    "    data.dropna(inplace=True)\n",
    "\n",
    "    # Set up the parameter grid\n",
    "    p_range = range(0, 1)\n",
    "    d_range = range(0, 2)\n",
    "    q_range = range(0, 1)\n",
    "    P_range = range(0, 1)\n",
    "    D_range = range(0, 1)\n",
    "    Q_range = range(0, 1)\n",
    "    s_range = [0, 12]  # 0 for non-seasonal, 12 for yearly seasonality\n",
    "\n",
    "    # Perform grid search\n",
    "    best_params = arima_grid_search(data['Interest Rate'], \n",
    "                                    p_range, d_range, q_range, \n",
    "                                    P_range, D_range, Q_range, s_range)\n",
    "\n",
    "    print(\"Best parameters (p, d, q, P, D, Q, s):\", best_params)"
   ]
  }
 ],
 "metadata": {
  "kernelspec": {
   "display_name": "dgs10",
   "language": "python",
   "name": "python3"
  },
  "language_info": {
   "codemirror_mode": {
    "name": "ipython",
    "version": 3
   },
   "file_extension": ".py",
   "mimetype": "text/x-python",
   "name": "python",
   "nbconvert_exporter": "python",
   "pygments_lexer": "ipython3",
   "version": "3.12.3"
  }
 },
 "nbformat": 4,
 "nbformat_minor": 2
}
