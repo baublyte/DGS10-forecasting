{
 "cells": [
  {
   "cell_type": "code",
   "execution_count": 1,
   "metadata": {},
   "outputs": [
    {
     "name": "stdout",
     "output_type": "stream",
     "text": [
      "ARIMA(0, 0, 0) - AIC:4151.7745296624\n",
      "Best ARIMA(0, 0, 0) - AIC:4151.7745296624\n",
      "Best parameters (p, d, q): (0, 0, 0)\n"
     ]
    }
   ],
   "source": [
    "import numpy as np\n",
    "import pandas as pd\n",
    "from statsmodels.tsa.arima.model import ARIMA\n",
    "from itertools import product\n",
    "import warnings\n",
    "from fredapi import Fred\n",
    "from dotenv import load_dotenv\n",
    "import os\n",
    "\n",
    "warnings.filterwarnings('ignore')\n",
    "\n",
    "\n",
    "def arima_grid_search(data, p_range, d_range, q_range):\n",
    "    best_aic = np.inf  # Set a large value for best AIC to start\n",
    "    best_params = None  # Placeholder for the best parameters\n",
    "    \n",
    "    # Loop through all possible combinations of (p, d, q)\n",
    "    for p, d, q in product(p_range, d_range, q_range):\n",
    "        try:\n",
    "            # Create and fit ARIMA model for each parameter combination\n",
    "            model = ARIMA(data, order=(p, d, q))\n",
    "            results = model.fit()\n",
    "            aic = results.aic  # Get the AIC value\n",
    "            \n",
    "            # If the AIC is lower than our best recorded AIC, update the best params\n",
    "            if aic < best_aic:\n",
    "                best_aic = aic\n",
    "                best_params = (p, d, q)\n",
    "            \n",
    "            # Print progress\n",
    "            print(f'ARIMA{(p,d,q)} - AIC:{aic}')\n",
    "        except:\n",
    "            # If the model fails to fit, we skip to the next combination\n",
    "            continue\n",
    "    \n",
    "    print(f'Best ARIMA{best_params} - AIC:{best_aic}')\n",
    "    return best_params\n",
    "\n",
    "\n",
    "if __name__ == \"__main__\":\n",
    "    # Fetch data\n",
    "    # Load API_key from .env\n",
    "    load_dotenv()\n",
    "    API_KEY = os.getenv('API_KEY')\n",
    "\n",
    "    # Initialize Fred API with your API key\n",
    "    fred = Fred(api_key=API_KEY)\n",
    "\n",
    "    data = fred.get_series('DGS10')\n",
    "    data = pd.DataFrame(data, columns=['Interest Rate'])\n",
    "    data.index.name = 'Date'\n",
    "    data = data[(data.index >= '2010-01-01') & (data.index < '2020-01-01')]\n",
    "    data.dropna(inplace=True)\n",
    "\n",
    "    # Define the ranges for (p, d, q)\n",
    "    p_range = range(0, 1)  # AR order\n",
    "    d_range = range(0, 1 )  # Differencing\n",
    "    q_range = range(0, 1)  # MA order\n",
    "\n",
    "    # Perform ARIMA grid search to find the best parameters\n",
    "    best_params = arima_grid_search(data, p_range, d_range, q_range)\n",
    "    \n",
    "    print(\"Best parameters (p, d, q):\", best_params)\n"
   ]
  }
 ],
 "metadata": {
  "kernelspec": {
   "display_name": "dgs10",
   "language": "python",
   "name": "python3"
  },
  "language_info": {
   "codemirror_mode": {
    "name": "ipython",
    "version": 3
   },
   "file_extension": ".py",
   "mimetype": "text/x-python",
   "name": "python",
   "nbconvert_exporter": "python",
   "pygments_lexer": "ipython3",
   "version": "3.12.3"
  }
 },
 "nbformat": 4,
 "nbformat_minor": 2
}
