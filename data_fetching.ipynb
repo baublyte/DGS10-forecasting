{
 "cells": [
  {
   "cell_type": "code",
   "execution_count": 3,
   "metadata": {},
   "outputs": [],
   "source": [
    "from fredapi import Fred\n",
    "import pandas as pd\n",
    "from dotenv import load_dotenv\n",
    "import os"
   ]
  },
  {
   "cell_type": "code",
   "execution_count": 4,
   "metadata": {},
   "outputs": [
    {
     "name": "stdout",
     "output_type": "stream",
     "text": [
      "           Date  Interest Rate\n",
      "9914 2000-01-03           6.58\n",
      "9915 2000-01-04           6.49\n",
      "9916 2000-01-05           6.62\n",
      "9917 2000-01-06           6.57\n",
      "9918 2000-01-07           6.52\n"
     ]
    }
   ],
   "source": [
    "# Load API_key from .env\n",
    "load_dotenv()\n",
    "API_KEY = os.getenv('API_KEY')\n",
    "\n",
    "# Initialize Fred API with your API key\n",
    "fred = Fred(api_key=API_KEY)\n",
    "\n",
    "# Fetch U.S. 10-Year Treasury Constant Maturity Rate (DGS10)\n",
    "data = fred.get_series('DGS10')\n",
    "\n",
    "# Convert to a DataFrame and reset the index\n",
    "data = pd.DataFrame(data, columns=['Interest Rate'])\n",
    "data.index.name = 'Date'\n",
    "data.reset_index(inplace=True)\n",
    "\n",
    "# Convert the 'Date' column to datetime format\n",
    "data['Date'] = pd.to_datetime(data['Date'])\n",
    "\n",
    "# Filter data from 2010 to 2020\n",
    "data = data[(data['Date'] >= '2000-01-01') & (data['Date'] <= '2020-01-01')]\n",
    "\n",
    "# Drop rows with missing values\n",
    "data.dropna(inplace=True)\n",
    "\n",
    "data.to_csv('dgs10_2000-2020.csv', index=False) \n",
    "\n",
    "# Display first few rows of the filtered data\n",
    "print(data.head())\n"
   ]
  }
 ],
 "metadata": {
  "kernelspec": {
   "display_name": "dgs10",
   "language": "python",
   "name": "python3"
  },
  "language_info": {
   "codemirror_mode": {
    "name": "ipython",
    "version": 3
   },
   "file_extension": ".py",
   "mimetype": "text/x-python",
   "name": "python",
   "nbconvert_exporter": "python",
   "pygments_lexer": "ipython3",
   "version": "3.12.3"
  }
 },
 "nbformat": 4,
 "nbformat_minor": 2
}
